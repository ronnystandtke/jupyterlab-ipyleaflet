{
 "cells": [
  {
   "cell_type": "markdown",
   "id": "e90fbc33-c236-41cc-8b59-d08674fe7192",
   "metadata": {},
   "source": [
    "# ipyleaflet-Beispiel\n",
    "Hier ein kleines Beispiel, wie geografische Informationen mit der Softwarebibliothek [ipyleaflet](https://ipyleaflet.readthedocs.io/en/latest/) in Jupyter-Notebooks dargestellt werden können:\n",
    "\n",
    "## Aufgabe:\n",
    "Versuche, den Marker auf dein eigenes Haus zu setzen. Die Koordinaten können zum Beispiel über die [OpenStreetMap-Webseite](https://www.openstreetmap.org) auf der rechten Seite über Teilen -> Kartenmarker abgefragt werden."
   ]
  },
  {
   "cell_type": "code",
   "execution_count": 15,
   "id": "8c41f144-0b97-4dd7-b100-f2b6f91ff3ca",
   "metadata": {},
   "outputs": [
    {
     "data": {
      "application/vnd.jupyter.widget-view+json": {
       "model_id": "0a089b9f2d8b4fd5a7f88921811c6f5b",
       "version_major": 2,
       "version_minor": 0
      },
      "text/plain": [
       "Map(center=[47.15851, 7.27699], controls=(ZoomControl(options=['position', 'zoom_in_text', 'zoom_in_title', 'z…"
      ]
     },
     "metadata": {},
     "output_type": "display_data"
    }
   ],
   "source": [
    "from ipyleaflet import Map, Marker\n",
    "\n",
    "center = (47.15851, 7.27699)\n",
    "marker = Marker(location=center, draggable=False)\n",
    "my_map = Map(center=center, zoom=18)\n",
    "my_map.add_layer(marker);\n",
    "my_map"
   ]
  },
  {
   "cell_type": "code",
   "execution_count": null,
   "id": "9c820151-eb45-4d28-8d6b-2949fd9a66a1",
   "metadata": {},
   "outputs": [],
   "source": []
  }
 ],
 "metadata": {
  "kernelspec": {
   "display_name": "Python 3",
   "language": "python",
   "name": "python3"
  },
  "language_info": {
   "codemirror_mode": {
    "name": "ipython",
    "version": 3
   },
   "file_extension": ".py",
   "mimetype": "text/x-python",
   "name": "python",
   "nbconvert_exporter": "python",
   "pygments_lexer": "ipython3",
   "version": "3.9.7"
  }
 },
 "nbformat": 4,
 "nbformat_minor": 5
}
